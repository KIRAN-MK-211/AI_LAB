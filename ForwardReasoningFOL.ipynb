{
  "nbformat": 4,
  "nbformat_minor": 0,
  "metadata": {
    "colab": {
      "name": "ForwardReasoningFOL.ipynb",
      "provenance": [],
      "authorship_tag": "ABX9TyMQBecGCpwC0tl3V3LVe4Jw",
      "include_colab_link": true
    },
    "kernelspec": {
      "name": "python3",
      "display_name": "Python 3"
    },
    "language_info": {
      "name": "python"
    }
  },
  "cells": [
    {
      "cell_type": "markdown",
      "metadata": {
        "id": "view-in-github",
        "colab_type": "text"
      },
      "source": [
        "<a href=\"https://colab.research.google.com/github/KIRAN-MK-211/AI_LAB/blob/main/ForwardReasoningFOL.ipynb\" target=\"_parent\"><img src=\"https://colab.research.google.com/assets/colab-badge.svg\" alt=\"Open In Colab\"/></a>"
      ]
    },
    {
      "cell_type": "code",
      "execution_count": 1,
      "metadata": {
        "id": "WxZxhLhaNgWE"
      },
      "outputs": [],
      "source": [
        "import re"
      ]
    },
    {
      "cell_type": "code",
      "source": [
        "def isVariable(x):\n",
        "    return len(x) == 1 and x.islower() and x.isalpha()"
      ],
      "metadata": {
        "id": "5c6WXZ9HNrHH"
      },
      "execution_count": 2,
      "outputs": []
    },
    {
      "cell_type": "code",
      "source": [
        "def getAttributes(string):\n",
        "    expr = '\\([^)]+\\)'\n",
        "    matches = re.findall(expr, string)\n",
        "    return matches"
      ],
      "metadata": {
        "id": "IXoPUz2rNs2X"
      },
      "execution_count": 3,
      "outputs": []
    },
    {
      "cell_type": "code",
      "source": [
        "def getPredicates(string):\n",
        "    expr = '([a-z~]+)\\([^&|]+\\)'\n",
        "    return re.findall(expr, string)"
      ],
      "metadata": {
        "id": "zabiuES0NueW"
      },
      "execution_count": 4,
      "outputs": []
    },
    {
      "cell_type": "code",
      "source": [
        "class Fact:\n",
        "    def __init__(self, expression):\n",
        "        self.expression = expression\n",
        "        predicate, params = self.splitExpression(expression)\n",
        "        self.predicate = predicate\n",
        "        self.params = params\n",
        "        self.result = any(self.getConstants())\n",
        "        \n",
        "    def splitExpression(self, expression):\n",
        "        predicate = getPredicates(expression)[0]\n",
        "        params = getAttributes(expression)[0].strip('()').split(',')\n",
        "        return [predicate, params]\n",
        "    \n",
        "    def getResult(self):\n",
        "        return self.result\n",
        "    \n",
        "    def getConstants(self):\n",
        "        return [None if isVariable(c) else c for c in self.params]\n",
        "    \n",
        "    def getVariables(self):\n",
        "        return [v if isVariable(v) else None for v in self.params]\n",
        "    \n",
        "    def substitute(self, constants):\n",
        "        c = constants.copy()\n",
        "        f = f\"{self.predicate}({','.join([constants.pop(0) if isVariable(p) else p for p in self.params])})\"\n",
        "        return Fact(f)"
      ],
      "metadata": {
        "id": "v4RkYbqnNvru"
      },
      "execution_count": 5,
      "outputs": []
    },
    {
      "cell_type": "code",
      "source": [
        "class Implication:\n",
        "    def __init__(self, expression):\n",
        "        self.expression = expression\n",
        "        l = expression.split('=>')\n",
        "        self.lhs = [Fact(f) for f in l[0].split('&')]\n",
        "        self.rhs = Fact(l[1])\n",
        "        \n",
        "    def evaluate(self, facts):\n",
        "        constants = {}\n",
        "        new_lhs = []\n",
        "        for fact in facts:\n",
        "            for val in self.lhs:\n",
        "                if val.predicate == fact.predicate:\n",
        "                    for i, v in enumerate(val.getVariables()):\n",
        "                        if v:\n",
        "                            constants[v] = fact.getConstants()[i]\n",
        "                    new_lhs.append(fact)\n",
        "        predicate, attributes = getPredicates(self.rhs.expression)[0], str(getAttributes(self.rhs.expression)[0])\n",
        "        for key in constants:\n",
        "            if constants[key]:\n",
        "                attributes = attributes.replace(key, constants[key])\n",
        "        expr = f'{predicate}{attributes}'\n",
        "        return Fact(expr) if len(new_lhs) and all([f.getResult() for f in new_lhs]) else None"
      ],
      "metadata": {
        "id": "hc9vpLjHNxNe"
      },
      "execution_count": 6,
      "outputs": []
    },
    {
      "cell_type": "code",
      "source": [
        "class KB:\n",
        "    def __init__(self):\n",
        "        self.facts = set()\n",
        "        self.implications = set()\n",
        "            \n",
        "    def tell(self, e):\n",
        "        if '=>' in e:\n",
        "            self.implications.add(Implication(e))\n",
        "        else:\n",
        "            self.facts.add(Fact(e))\n",
        "        for i in self.implications:\n",
        "            res = i.evaluate(self.facts)\n",
        "            if res:\n",
        "                self.facts.add(res)\n",
        "\n",
        "    def query(self, e):\n",
        "        facts = set([f.expression for f in self.facts])\n",
        "        i = 1\n",
        "        print(f'Querying {e}:')\n",
        "        for f in facts:\n",
        "            if Fact(f).predicate == Fact(e).predicate:\n",
        "                print(f'\\t{i}. {f}')\n",
        "                i += 1\n",
        "    \n",
        "    def display(self):\n",
        "        print(\"All facts: \")\n",
        "        for i, f in enumerate(set([f.expression for f in self.facts])):\n",
        "            print(f'\\t{i+1}. {f}')"
      ],
      "metadata": {
        "id": "LVr9DvZJNzQ3"
      },
      "execution_count": 7,
      "outputs": []
    },
    {
      "cell_type": "code",
      "source": [
        "def main():\n",
        "    kb = KB()\n",
        "    print(\"Enter KB: (enter e to exit)\")\n",
        "    while True:\n",
        "        t = input()\n",
        "        if(t == 'e'):\n",
        "            break\n",
        "        kb.tell(t)\n",
        "    print(\"Enter Query:\")\n",
        "    q = input()\n",
        "    kb.query(q)\n",
        "    kb.display()\n",
        "    "
      ],
      "metadata": {
        "id": "78FW3S2QN1mX"
      },
      "execution_count": 8,
      "outputs": []
    },
    {
      "cell_type": "code",
      "source": [
        "main()"
      ],
      "metadata": {
        "colab": {
          "base_uri": "https://localhost:8080/"
        },
        "id": "cKi3qvbHN3iw",
        "outputId": "9d8922ad-82d3-4ad6-b8e8-c7f5dac8dca4"
      },
      "execution_count": 9,
      "outputs": [
        {
          "output_type": "stream",
          "name": "stdout",
          "text": [
            "Enter KB: (enter e to exit)\n",
            "missile(x)=>weapon(x)\n",
            "missile(M1)\n",
            "enemy(x,America)=>hostile(x)\n",
            "american(West)\n",
            "enemy(Nono,America)\n",
            "owns(Nono,M1)\n",
            "missile(x)&owns(Nono,x)=>sells(West,x,Nono)\n",
            "american(x)&weapon(y)&sells(x,y,z)&hostile(z)=>criminal(x)\n",
            "e\n",
            "Enter Query:\n",
            "criminal(x)\n",
            "Querying criminal(x):\n",
            "\t1. criminal(West)\n",
            "All facts: \n",
            "\t1. hostile(Nono)\n",
            "\t2. criminal(West)\n",
            "\t3. owns(Nono,M1)\n",
            "\t4. american(West)\n",
            "\t5. weapon(M1)\n",
            "\t6. missile(M1)\n",
            "\t7. enemy(Nono,America)\n",
            "\t8. sells(West,M1,Nono)\n"
          ]
        }
      ]
    }
  ]
}