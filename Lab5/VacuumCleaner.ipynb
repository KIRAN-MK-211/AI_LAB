{
  "cells": [
    {
      "cell_type": "markdown",
      "metadata": {
        "id": "view-in-github",
        "colab_type": "text"
      },
      "source": [
        "<a href=\"https://colab.research.google.com/github/KIRAN-MK-211/AI_LAB/blob/main/VacuumCleaner.ipynb\" target=\"_parent\"><img src=\"https://colab.research.google.com/assets/colab-badge.svg\" alt=\"Open In Colab\"/></a>"
      ]
    },
    {
      "cell_type": "markdown",
      "metadata": {
        "papermill": {
          "duration": 0.00623,
          "end_time": "2020-11-02T04:55:21.019950",
          "exception": false,
          "start_time": "2020-11-02T04:55:21.013720",
          "status": "completed"
        },
        "tags": [],
        "id": "vFhZTur-Dpc6"
      },
      "source": [
        "# Vacuum Cleaner Program"
      ]
    },
    {
      "cell_type": "code",
      "execution_count": 2,
      "metadata": {
        "_cell_guid": "79c7e3d0-c299-4dcb-8224-4455121ee9b0",
        "_uuid": "d629ff2d2480ee46fbb7e2d37f6b5fab8052498a",
        "execution": {
          "iopub.execute_input": "2020-11-02T04:55:21.081695Z",
          "iopub.status.busy": "2020-11-02T04:55:21.080288Z",
          "iopub.status.idle": "2020-11-02T04:55:21.083986Z",
          "shell.execute_reply": "2020-11-02T04:55:21.083304Z"
        },
        "papermill": {
          "duration": 0.019893,
          "end_time": "2020-11-02T04:55:21.084145",
          "exception": false,
          "start_time": "2020-11-02T04:55:21.064252",
          "status": "completed"
        },
        "tags": [],
        "id": "MtF1680-Dpc-"
      },
      "outputs": [],
      "source": [
        "def clean(floor, row, col):\n",
        "    i, j, p, q = row, col, len(floor), len(floor[0])\n",
        "    Right = Down = True\n",
        "    cleaned = [not any(fl) for fl in floor]\n",
        "    while not all(cleaned):\n",
        "        while any(floor[i]):\n",
        "            print_floor(floor, i, j)\n",
        "            if floor[i][j]:\n",
        "                floor[i][j] = 0\n",
        "                print_floor(floor, i, j)\n",
        "            if not any(floor[i]):\n",
        "                cleaned[i] = True\n",
        "                break\n",
        "            if j == q - 1:\n",
        "                j -= 1\n",
        "                Right = False\n",
        "            elif j == 0:\n",
        "                j += 1\n",
        "                Right = True\n",
        "            else:\n",
        "                j += 1 if Right else -1\n",
        "        if all(cleaned):\n",
        "            break\n",
        "        if i == p - 1:\n",
        "            i -= 1\n",
        "            Down = False\n",
        "        elif i == 0:\n",
        "            i += 1\n",
        "            Down = True\n",
        "        else:\n",
        "            i += 1 if Down else -1\n",
        "        if cleaned[i]:\n",
        "            print_floor(floor, i, j)\n",
        "        "
      ]
    },
    {
      "cell_type": "code",
      "execution_count": 3,
      "metadata": {
        "execution": {
          "iopub.execute_input": "2020-11-02T04:55:21.105041Z",
          "iopub.status.busy": "2020-11-02T04:55:21.104000Z",
          "iopub.status.idle": "2020-11-02T04:55:21.107173Z",
          "shell.execute_reply": "2020-11-02T04:55:21.106514Z"
        },
        "papermill": {
          "duration": 0.015446,
          "end_time": "2020-11-02T04:55:21.107298",
          "exception": false,
          "start_time": "2020-11-02T04:55:21.091852",
          "status": "completed"
        },
        "tags": [],
        "id": "nxoy9XqJDpc_"
      },
      "outputs": [],
      "source": [
        "def print_floor(floor, row, col): # row, col represent the current vacuum cleaner position\n",
        "    for m in range(len(floor)):\n",
        "        for n in range(len(floor[m])):\n",
        "            if m == row and n == col:\n",
        "                print(f\" >{floor[m][n]}< \", end = '')\n",
        "            else:\n",
        "                print(f\"  {floor[m][n]}  \", end = '')\n",
        "        print(end = '\\n')\n",
        "    print(end = '\\n')"
      ]
    },
    {
      "cell_type": "code",
      "source": [
        "m = int(input(\"Enter the no of rows: 01\"))\n",
        "n = int(input(\"Enter the no of columns: \"))\n",
        "floor = []\n",
        "for i in range(m):\n",
        "  row_tile = [0]*n\n",
        "  print(\"Enter the status of row: \"+(str(i+1)))\n",
        "  for j in range(n):\n",
        "    s = int(input())\n",
        "    row_tile.append(s)\n",
        "  floor.append(row_tile)"
      ],
      "metadata": {
        "colab": {
          "base_uri": "https://localhost:8080/"
        },
        "id": "zYr0LyReD2rf",
        "outputId": "3b31bd77-c5ef-467e-b923-73b091b4aeb9"
      },
      "execution_count": 5,
      "outputs": [
        {
          "name": "stdout",
          "output_type": "stream",
          "text": [
            "Enter the no of rows: 3\n",
            "Enter the no of columns: 4\n",
            "Enter the status of row: 1\n",
            "1\n",
            "0\n",
            "0\n",
            "0\n",
            "Enter the status of row: 2\n",
            "0\n",
            "1\n",
            "0\n",
            "1\n",
            "Enter the status of row: 3\n",
            "1\n",
            "0\n",
            "1\n",
            "1\n"
          ]
        }
      ]
    },
    {
      "cell_type": "code",
      "source": [
        "clean(floor, 1, 2)"
      ],
      "metadata": {
        "colab": {
          "base_uri": "https://localhost:8080/"
        },
        "id": "Nua9ToB4E-df",
        "outputId": "b3a0d376-230c-41c2-d7f3-844b5fca61a7"
      },
      "execution_count": 6,
      "outputs": [
        {
          "output_type": "stream",
          "name": "stdout",
          "text": [
            "  0    0    0    0    1    0    0    0  \n",
            "  0    0   >0<   0    0    1    0    1  \n",
            "  0    0    0    0    1    0    1    1  \n",
            "\n",
            "  0    0    0    0    1    0    0    0  \n",
            "  0    0    0   >0<   0    1    0    1  \n",
            "  0    0    0    0    1    0    1    1  \n",
            "\n",
            "  0    0    0    0    1    0    0    0  \n",
            "  0    0    0    0   >0<   1    0    1  \n",
            "  0    0    0    0    1    0    1    1  \n",
            "\n",
            "  0    0    0    0    1    0    0    0  \n",
            "  0    0    0    0    0   >1<   0    1  \n",
            "  0    0    0    0    1    0    1    1  \n",
            "\n",
            "  0    0    0    0    1    0    0    0  \n",
            "  0    0    0    0    0   >0<   0    1  \n",
            "  0    0    0    0    1    0    1    1  \n",
            "\n",
            "  0    0    0    0    1    0    0    0  \n",
            "  0    0    0    0    0    0   >0<   1  \n",
            "  0    0    0    0    1    0    1    1  \n",
            "\n",
            "  0    0    0    0    1    0    0    0  \n",
            "  0    0    0    0    0    0    0   >1< \n",
            "  0    0    0    0    1    0    1    1  \n",
            "\n",
            "  0    0    0    0    1    0    0    0  \n",
            "  0    0    0    0    0    0    0   >0< \n",
            "  0    0    0    0    1    0    1    1  \n",
            "\n",
            "  0    0    0    0    1    0    0    0  \n",
            "  0    0    0    0    0    0    0    0  \n",
            "  0    0    0    0    1    0    1   >1< \n",
            "\n",
            "  0    0    0    0    1    0    0    0  \n",
            "  0    0    0    0    0    0    0    0  \n",
            "  0    0    0    0    1    0    1   >0< \n",
            "\n",
            "  0    0    0    0    1    0    0    0  \n",
            "  0    0    0    0    0    0    0    0  \n",
            "  0    0    0    0    1    0   >1<   0  \n",
            "\n",
            "  0    0    0    0    1    0    0    0  \n",
            "  0    0    0    0    0    0    0    0  \n",
            "  0    0    0    0    1    0   >0<   0  \n",
            "\n",
            "  0    0    0    0    1    0    0    0  \n",
            "  0    0    0    0    0    0    0    0  \n",
            "  0    0    0    0    1   >0<   0    0  \n",
            "\n",
            "  0    0    0    0    1    0    0    0  \n",
            "  0    0    0    0    0    0    0    0  \n",
            "  0    0    0    0   >1<   0    0    0  \n",
            "\n",
            "  0    0    0    0    1    0    0    0  \n",
            "  0    0    0    0    0    0    0    0  \n",
            "  0    0    0    0   >0<   0    0    0  \n",
            "\n",
            "  0    0    0    0    1    0    0    0  \n",
            "  0    0    0    0   >0<   0    0    0  \n",
            "  0    0    0    0    0    0    0    0  \n",
            "\n",
            "  0    0    0    0   >1<   0    0    0  \n",
            "  0    0    0    0    0    0    0    0  \n",
            "  0    0    0    0    0    0    0    0  \n",
            "\n",
            "  0    0    0    0   >0<   0    0    0  \n",
            "  0    0    0    0    0    0    0    0  \n",
            "  0    0    0    0    0    0    0    0  \n",
            "\n"
          ]
        }
      ]
    }
  ],
  "metadata": {
    "kernelspec": {
      "display_name": "Python 3",
      "language": "python",
      "name": "python3"
    },
    "language_info": {
      "codemirror_mode": {
        "name": "ipython",
        "version": 3
      },
      "file_extension": ".py",
      "mimetype": "text/x-python",
      "name": "python",
      "nbconvert_exporter": "python",
      "pygments_lexer": "ipython3",
      "version": "3.7.6"
    },
    "papermill": {
      "duration": 4.459038,
      "end_time": "2020-11-02T04:55:21.402228",
      "environment_variables": {},
      "exception": null,
      "input_path": "__notebook__.ipynb",
      "output_path": "__notebook__.ipynb",
      "parameters": {},
      "start_time": "2020-11-02T04:55:16.943190",
      "version": "2.1.0"
    },
    "colab": {
      "name": "VacuumCleaner.ipynb",
      "provenance": [],
      "include_colab_link": true
    }
  },
  "nbformat": 4,
  "nbformat_minor": 0
}
