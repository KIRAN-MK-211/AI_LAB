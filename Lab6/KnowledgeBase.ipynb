{
  "cells": [
    {
      "cell_type": "markdown",
      "metadata": {
        "id": "view-in-github",
        "colab_type": "text"
      },
      "source": [
        "<a href=\"https://colab.research.google.com/github/KIRAN-MK-211/AI_LAB/blob/main/KnowledgeBase.ipynb\" target=\"_parent\"><img src=\"https://colab.research.google.com/assets/colab-badge.svg\" alt=\"Open In Colab\"/></a>"
      ]
    },
    {
      "cell_type": "code",
      "execution_count": 1,
      "metadata": {
        "execution": {
          "iopub.execute_input": "2020-11-23T05:22:34.664818Z",
          "iopub.status.busy": "2020-11-23T05:22:34.663744Z",
          "iopub.status.idle": "2020-11-23T05:22:34.666259Z",
          "shell.execute_reply": "2020-11-23T05:22:34.666822Z"
        },
        "papermill": {
          "duration": 0.022339,
          "end_time": "2020-11-23T05:22:34.667065",
          "exception": false,
          "start_time": "2020-11-23T05:22:34.644726",
          "status": "completed"
        },
        "tags": [],
        "id": "uKy6XNtIFlA2"
      },
      "outputs": [],
      "source": [
        "def tell(kb,rule):\n",
        "    kb.append(rule)\n"
      ]
    },
    {
      "cell_type": "code",
      "execution_count": 2,
      "metadata": {
        "execution": {
          "iopub.execute_input": "2020-11-23T05:22:34.702734Z",
          "iopub.status.busy": "2020-11-23T05:22:34.701608Z",
          "iopub.status.idle": "2020-11-23T05:22:34.705242Z",
          "shell.execute_reply": "2020-11-23T05:22:34.704609Z"
        },
        "papermill": {
          "duration": 0.0244,
          "end_time": "2020-11-23T05:22:34.705392",
          "exception": false,
          "start_time": "2020-11-23T05:22:34.680992",
          "status": "completed"
        },
        "tags": [],
        "id": "U8ZUkjzBFlA3"
      },
      "outputs": [],
      "source": [
        "combinations=[(True,True, True),(True,True,False),\n",
        "              (True,False,True),(True,False, False),\n",
        "              (False,True, True),(False,True, False),\n",
        "              (False,False,True),(False,False,False)]"
      ]
    },
    {
      "cell_type": "code",
      "execution_count": 3,
      "metadata": {
        "execution": {
          "iopub.execute_input": "2020-11-23T05:22:34.741561Z",
          "iopub.status.busy": "2020-11-23T05:22:34.740415Z",
          "iopub.status.idle": "2020-11-23T05:22:34.744617Z",
          "shell.execute_reply": "2020-11-23T05:22:34.743948Z"
        },
        "papermill": {
          "duration": 0.025587,
          "end_time": "2020-11-23T05:22:34.744748",
          "exception": false,
          "start_time": "2020-11-23T05:22:34.719161",
          "status": "completed"
        },
        "tags": [],
        "id": "86zs8qWUFlA4"
      },
      "outputs": [],
      "source": [
        "def ask(kb,q):\n",
        "    for c in combinations:\n",
        "        s = all(rule(c) for rule in kb)\n",
        "        f = q(c)\n",
        "        print(s, f)\n",
        "        if s != f and s != False:\n",
        "            return 'Does not entail'\n",
        "    return 'Entails'"
      ]
    },
    {
      "cell_type": "code",
      "execution_count": 4,
      "metadata": {
        "execution": {
          "iopub.execute_input": "2020-11-23T05:22:34.782419Z",
          "iopub.status.busy": "2020-11-23T05:22:34.781630Z",
          "iopub.status.idle": "2020-11-23T05:22:34.792187Z",
          "shell.execute_reply": "2020-11-23T05:22:34.791014Z"
        },
        "papermill": {
          "duration": 0.033666,
          "end_time": "2020-11-23T05:22:34.792363",
          "exception": false,
          "start_time": "2020-11-23T05:22:34.758697",
          "status": "completed"
        },
        "tags": [],
        "id": "Ecu9bEQNFlA5",
        "outputId": "ac325310-bfae-4a1e-f5e1-754a796242e3",
        "colab": {
          "base_uri": "https://localhost:8080/",
          "height": 87
        }
      },
      "outputs": [
        {
          "output_type": "stream",
          "name": "stdout",
          "text": [
            "True True\n",
            "False True\n",
            "True False\n"
          ]
        },
        {
          "output_type": "execute_result",
          "data": {
            "application/vnd.google.colaboratory.intrinsic+json": {
              "type": "string"
            },
            "text/plain": [
              "'Does not entail'"
            ]
          },
          "metadata": {},
          "execution_count": 4
        }
      ],
      "source": [
        "# Test 1\n",
        "# Knowledge base array\n",
        "kb = []\n",
        "\n",
        "## Rule 1\n",
        "r1 = lambda x: x[0] or x[1] and (x[0] and x[1])\n",
        "\n",
        "## Tell KB Rule 1\n",
        "tell(kb, r1)\n",
        "\n",
        "## Tell Rule 2\n",
        "r2 = lambda x: (x[0] or x[1]) and x[2]\n",
        "tell(kb, r2)\n",
        "\n",
        "## Query\n",
        "q = lambda x: x[0] and x[1] and (x[0] or x[1])\n",
        "\n",
        "## Ask KB Query\n",
        "ask(kb, q)"
      ]
    },
    {
      "cell_type": "code",
      "source": [
        "print(\"Use variables: p,q,r, operators: ^:and ,v:or, ~:not\")"
      ],
      "metadata": {
        "colab": {
          "base_uri": "https://localhost:8080/"
        },
        "id": "iL2PTJFUF6vE",
        "outputId": "f1cfb850-2d2d-42c4-e360-4731f573d37a"
      },
      "execution_count": 5,
      "outputs": [
        {
          "output_type": "stream",
          "name": "stdout",
          "text": [
            "Use variables: p,q,r, operators: ^:and ,v:or, ~:not\n"
          ]
        }
      ]
    },
    {
      "cell_type": "code",
      "source": [
        "print(\"Tell the knowledge base\")\n",
        "n = int(input(\"Enter the no of expressions: \"))\n",
        "for i in range(n):\n",
        "  expr = input(\"Enter the expression: \")\n",
        "  expr = expr.replace(\"p\",\"x[0]\")\n",
        "  expr = expr.replace(\"q\", \"x[1]\")\n",
        "  expr = expr.replace(\"r\", \"x[2]\")\n",
        "  expr = expr.replace(\"v\", \" or \")\n",
        "  expr = expr.replace(\"^\", \" and \")\n",
        "  expr = expr.replace(\"~\", \" not \")\n",
        "  expr = \"lambda x: \" + expr \n",
        "  tell(kb, eval(expr)) "
      ],
      "metadata": {
        "colab": {
          "base_uri": "https://localhost:8080/"
        },
        "id": "ZLOQiCzqGPHU",
        "outputId": "f52b5516-836f-419a-8269-fd27d6f1d893"
      },
      "execution_count": 23,
      "outputs": [
        {
          "name": "stdout",
          "output_type": "stream",
          "text": [
            "Tell the knowledge base\n",
            "Enter the no of expressions: 3\n",
            "Enter the expression: (p^q)vr\n",
            "Enter the expression: ~qv~r\n",
            "Enter the expression: ~p^~q\n"
          ]
        }
      ]
    },
    {
      "cell_type": "code",
      "source": [
        "print(\"Querying the Knowledge base\")\n",
        "expr = input(\"Enter you query: \")\n",
        "expr = expr.replace(\"p\",\"x[0]\")\n",
        "expr = expr.replace(\"q\", \"x[1]\")\n",
        "expr = expr.replace(\"r\", \"x[2]\")\n",
        "expr = expr.replace(\"v\", \" or \")\n",
        "expr = expr.replace(\"^\", \" and \")\n",
        "expr = expr.replace(\"~\", \" not \")\n",
        "expr = \"lambda x: \" + expr \n",
        "ask(kb, eval(expr)) "
      ],
      "metadata": {
        "colab": {
          "base_uri": "https://localhost:8080/",
          "height": 192
        },
        "id": "saQ-HhivI3FD",
        "outputId": "f846e09d-c2b3-426e-8212-393476e6b47c"
      },
      "execution_count": 26,
      "outputs": [
        {
          "output_type": "stream",
          "name": "stdout",
          "text": [
            "Querying the Knowledge base\n",
            "Enter you query: p^~q\n",
            "False False\n",
            "False False\n",
            "False True\n",
            "False True\n",
            "False False\n",
            "False False\n",
            "True False\n"
          ]
        },
        {
          "output_type": "execute_result",
          "data": {
            "application/vnd.google.colaboratory.intrinsic+json": {
              "type": "string"
            },
            "text/plain": [
              "'Does not entail'"
            ]
          },
          "metadata": {},
          "execution_count": 26
        }
      ]
    }
  ],
  "metadata": {
    "kernelspec": {
      "display_name": "Python 3",
      "language": "python",
      "name": "python3"
    },
    "language_info": {
      "codemirror_mode": {
        "name": "ipython",
        "version": 3
      },
      "file_extension": ".py",
      "mimetype": "text/x-python",
      "name": "python",
      "nbconvert_exporter": "python",
      "pygments_lexer": "ipython3",
      "version": "3.7.6"
    },
    "papermill": {
      "duration": 6.448929,
      "end_time": "2020-11-23T05:22:34.997920",
      "environment_variables": {},
      "exception": null,
      "input_path": "__notebook__.ipynb",
      "output_path": "__notebook__.ipynb",
      "parameters": {},
      "start_time": "2020-11-23T05:22:28.548991",
      "version": "2.1.0"
    },
    "colab": {
      "name": "KnowledgeBase.ipynb",
      "provenance": [],
      "include_colab_link": true
    }
  },
  "nbformat": 4,
  "nbformat_minor": 0
}
