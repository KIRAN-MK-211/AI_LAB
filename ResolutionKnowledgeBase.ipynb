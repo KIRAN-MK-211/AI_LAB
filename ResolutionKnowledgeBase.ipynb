{
  "nbformat": 4,
  "nbformat_minor": 0,
  "metadata": {
    "colab": {
      "name": "ResolutionKnowledgeBase.ipynb",
      "provenance": [],
      "authorship_tag": "ABX9TyOO2qqhWA36fQEbtKHugsZV",
      "include_colab_link": true
    },
    "kernelspec": {
      "name": "python3",
      "display_name": "Python 3"
    },
    "language_info": {
      "name": "python"
    }
  },
  "cells": [
    {
      "cell_type": "markdown",
      "metadata": {
        "id": "view-in-github",
        "colab_type": "text"
      },
      "source": [
        "<a href=\"https://colab.research.google.com/github/KIRAN-MK-211/AI_LAB/blob/main/ResolutionKnowledgeBase.ipynb\" target=\"_parent\"><img src=\"https://colab.research.google.com/assets/colab-badge.svg\" alt=\"Open In Colab\"/></a>"
      ]
    },
    {
      "cell_type": "code",
      "execution_count": 1,
      "metadata": {
        "id": "-AiBu5sOJ-Gt"
      },
      "outputs": [],
      "source": [
        "import re"
      ]
    },
    {
      "cell_type": "code",
      "source": [
        "def negate(term):\n",
        "    return f'~{term}' if term[0] != '~' else term[1]\n"
      ],
      "metadata": {
        "id": "HwG17cBGKFPK"
      },
      "execution_count": 2,
      "outputs": []
    },
    {
      "cell_type": "code",
      "source": [
        "def reverse(clause):\n",
        "    if len(clause) > 2:\n",
        "        t = split_terms(clause)\n",
        "        return f'{t[1]}v{t[0]}'\n",
        "    return ''"
      ],
      "metadata": {
        "id": "Ocy9LHUqKIcK"
      },
      "execution_count": 3,
      "outputs": []
    },
    {
      "cell_type": "code",
      "source": [
        "def split_terms(rule):\n",
        "    exp = '(~*[PQRS])'\n",
        "    terms = re.findall(exp, rule)\n",
        "    return terms\n"
      ],
      "metadata": {
        "id": "-trJk8U1KL0N"
      },
      "execution_count": 4,
      "outputs": []
    },
    {
      "cell_type": "code",
      "source": [
        "def contradiction(query, clause):\n",
        "    contradictions = [ f'{query}v{negate(query)}', f'{negate(query)}v{query}']\n",
        "    return clause in contradictions or reverse(clause) in contradictions\n"
      ],
      "metadata": {
        "id": "mO8HSncqKNvq"
      },
      "execution_count": 5,
      "outputs": []
    },
    {
      "cell_type": "code",
      "source": [
        "def resolve(kb, query):\n",
        "    temp = kb.copy()\n",
        "    temp += [negate(query)]\n",
        "    steps = dict()\n",
        "    for rule in temp:\n",
        "        steps[rule] = 'Given.'\n",
        "        steps[negate(query)] = 'Negated conclusion.'\n",
        "    i = 0\n",
        "    while i < len(temp):\n",
        "        n = len(temp)\n",
        "        j = (i + 1) % n\n",
        "        clauses = []\n",
        "        while j != i:   \n",
        "            terms1 = split_terms(temp[i])\n",
        "            terms2 = split_terms(temp[j])\n",
        "            for c in terms1:\n",
        "                if negate(c) in terms2:\n",
        "                    t1 = [t for t in terms1 if t != c]\n",
        "                    t2 = [t for t in terms2 if t != negate(c)]\n",
        "                    gen = t1 + t2\n",
        "                    if len(gen) == 2:\n",
        "                        if gen[0] != negate(gen[1]):\n",
        "                            clauses += [f'{gen[0]}v{gen[1]}']\n",
        "                        else:\n",
        "                            if contradiction(query,f'{gen[0]}v{gen[1]}'):\n",
        "                                temp.append(f'{gen[0]}v{gen[1]}')\n",
        "                                steps[''] = f\"Resolved {temp[i]} and {temp[j]} to {temp[-1]}, which is in turn null. \\\n",
        "                                \\nA contradiction is found when {negate(query)} is assumed as true. Hence, {query} is true.\"\n",
        "                                return steps\n",
        "                    elif len(gen) == 1:\n",
        "                        clauses += [f'{gen[0]}']\n",
        "                    else:\n",
        "                        if contradiction(query,f'{terms1[0]}v{terms2[0]}'):\n",
        "                            temp.append(f'{terms1[0]}v{terms2[0]}')\n",
        "                            steps[''] = f\"Resolved {temp[i]} and {temp[j]} to {temp[-1]}, which is in turn null. \\\n",
        "                            \\nA contradiction is found when {negate(query)} is assumed as true. Hence, {query} is true.\"\n",
        "                            return steps\n",
        "            for clause in clauses:\n",
        "                if clause not in temp and clause != reverse(clause) and reverse(clause) not in temp:\n",
        "                    temp.append(clause)\n",
        "                    steps[clause] = f'Resolved from {temp[i]} and {temp[j]}.'\n",
        "            j = (j + 1) % n\n",
        "        i += 1\n",
        "    return steps\n"
      ],
      "metadata": {
        "id": "Pku-MP_IKQTd"
      },
      "execution_count": 6,
      "outputs": []
    },
    {
      "cell_type": "code",
      "source": [
        "def resolution(kb, query):\n",
        "    kb = kb.split(' ')\n",
        "    steps = resolve(kb, query)\n",
        "    print('\\nStep\\t|Clause\\t|Derivation\\t')\n",
        "    print('-' * 30)\n",
        "    i = 1\n",
        "    for step in steps:\n",
        "        print(f' {i}.\\t| {step}\\t| {steps[step]}\\t')\n",
        "        i += 1\n"
      ],
      "metadata": {
        "id": "wyTvu5wYKfuC"
      },
      "execution_count": 7,
      "outputs": []
    },
    {
      "cell_type": "code",
      "source": [
        "def main():\n",
        "    print(\"Enter the kb:\")\n",
        "    kb = input()\n",
        "    print(\"Enter the query:\")\n",
        "    query = input()\n",
        "    resolution(kb,query)\n"
      ],
      "metadata": {
        "id": "WH7Al74qKiOD"
      },
      "execution_count": 9,
      "outputs": []
    },
    {
      "cell_type": "code",
      "source": [
        "main()"
      ],
      "metadata": {
        "colab": {
          "base_uri": "https://localhost:8080/"
        },
        "id": "ISEXmWIOKmoo",
        "outputId": "e4a6c1bf-2070-466b-b317-13e54afebc5a"
      },
      "execution_count": 10,
      "outputs": [
        {
          "output_type": "stream",
          "name": "stdout",
          "text": [
            "Enter the kb:\n",
            "Rv~P Rv~Q ~RvP ~RvQ\n",
            "Enter the query:\n",
            "R\n",
            "\n",
            "Step\t|Clause\t|Derivation\t\n",
            "------------------------------\n",
            " 1.\t| Rv~P\t| Given.\t\n",
            " 2.\t| ~R\t| Negated conclusion.\t\n",
            " 3.\t| Rv~Q\t| Given.\t\n",
            " 4.\t| ~RvP\t| Given.\t\n",
            " 5.\t| ~RvQ\t| Given.\t\n",
            " 6.\t| \t| Resolved Rv~P and ~RvP to Rv~R, which is in turn null.                                 \n",
            "A contradiction is found when ~R is assumed as true. Hence, R is true.\t\n"
          ]
        }
      ]
    },
    {
      "cell_type": "code",
      "source": [
        ""
      ],
      "metadata": {
        "id": "5C8DvFkGKnNh"
      },
      "execution_count": null,
      "outputs": []
    }
  ]
}